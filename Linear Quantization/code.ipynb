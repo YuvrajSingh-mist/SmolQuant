{
 "cells": [
  {
   "cell_type": "code",
   "execution_count": 1,
   "id": "f9742b73",
   "metadata": {},
   "outputs": [],
   "source": [
    "import torch"
   ]
  },
  {
   "cell_type": "code",
   "execution_count": 16,
   "id": "d9993462",
   "metadata": {},
   "outputs": [],
   "source": [
    "def linear_quantize(tensor, dtype=torch.int8):\n",
    "    r_min = tensor.min().item()\n",
    "    r_max = tensor.max().item()\n",
    "    \n",
    "    q_min = torch.iinfo(dtype).min\n",
    "    q_max = torch.iinfo(dtype).max\n",
    "    \n",
    "    scale = (r_max - r_min) / (q_max - q_min)\n",
    "    zero_point = int(torch.round(torch.tensor(q_min - (r_min / scale))).item())\n",
    "\n",
    "    zero_point = torch.clamp_(torch.tensor(zero_point), min=q_min, max=q_max)\n",
    "    \n",
    "    return scale, zero_point.item()"
   ]
  },
  {
   "cell_type": "code",
   "execution_count": null,
   "id": "703ce107",
   "metadata": {},
   "outputs": [],
   "source": [
    "def linear_dequantize(scale, zero_point, tensor, dtype=torch.int):\n",
    "    r = scale * (tensor - zero_point)\n",
    "    \n",
    "    return r"
   ]
  },
  {
   "cell_type": "code",
   "execution_count": 17,
   "id": "384df72d",
   "metadata": {},
   "outputs": [],
   "source": [
    "\n",
    "test_tensor=torch.tensor(\n",
    "    [[191.6, -13.5, 728.6],\n",
    "     [92.14, 295.5,  -184],\n",
    "     [0,     684.6, 245.5]]\n",
    ")"
   ]
  },
  {
   "cell_type": "code",
   "execution_count": 18,
   "id": "2443fabc",
   "metadata": {},
   "outputs": [
    {
     "data": {
      "text/plain": [
       "(3.578823433670343, -77)"
      ]
     },
     "execution_count": 18,
     "metadata": {},
     "output_type": "execute_result"
    }
   ],
   "source": [
    "linear_quantize(test_tensor)"
   ]
  },
  {
   "cell_type": "code",
   "execution_count": null,
   "id": "422b1169",
   "metadata": {},
   "outputs": [],
   "source": []
  }
 ],
 "metadata": {
  "kernelspec": {
   "display_name": "trainLLM",
   "language": "python",
   "name": "python3"
  },
  "language_info": {
   "codemirror_mode": {
    "name": "ipython",
    "version": 3
   },
   "file_extension": ".py",
   "mimetype": "text/x-python",
   "name": "python",
   "nbconvert_exporter": "python",
   "pygments_lexer": "ipython3",
   "version": "3.10.11"
  }
 },
 "nbformat": 4,
 "nbformat_minor": 5
}
