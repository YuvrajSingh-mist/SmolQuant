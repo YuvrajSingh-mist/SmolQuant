{
 "cells": [
  {
   "cell_type": "code",
   "execution_count": 1,
   "id": "c1f2d930",
   "metadata": {},
   "outputs": [],
   "source": [
    "import torch\n",
    "import torch.nn as nn\n"
   ]
  },
  {
   "cell_type": "code",
   "execution_count": 2,
   "id": "e0d0cf29",
   "metadata": {},
   "outputs": [],
   "source": [
    "#W8A16 Linear Layer\n",
    "\n",
    "def linear_quantize(tensor, dtype=torch.int8):\n",
    "    r_min = tensor.min().item()\n",
    "    r_max = tensor.max().item()\n",
    "    \n",
    "    q_min = torch.iinfo(dtype).min\n",
    "    q_max = torch.iinfo(dtype).max\n",
    "    \n",
    "    scale = (r_max - r_min) / (q_max - q_min)\n",
    "    zero_point = torch.round(torch.tensor(q_min - (r_min / scale))).to(torch.int8).item()\n",
    "\n",
    "    zero_point = torch.clamp_(torch.tensor(zero_point), min=q_min, max=q_max)\n",
    "    \n",
    "    quantized_tensor = torch.round(tensor / scale + zero_point)\n",
    "    quantized_tensor = torch.clamp_(quantized_tensor, min=q_min, max=q_max).to(torch.int8)\n",
    "    return scale, zero_point.item(), quantized_tensor\n",
    "\n",
    "def channel_linear_quantize(tensor, dim=0, dtype=torch.int8):\n",
    "    scales = torch.zeros(tensor.size(dim))\n",
    "    zero_pts = torch.zeros(tensor.size(dim), dtype=torch.int8)\n",
    "\n",
    "\n",
    "    quantized_tensor = torch.zeros_like(tensor, dtype=dtype)\n",
    "\n",
    "    for i in range(tensor.size(dim)):\n",
    "        scales[i], zero_pts[i], quant = linear_quantize(tensor.select(dim, i), dtype=dtype)\n",
    "\n",
    "        if dim == 1:\n",
    "            quantized_tensor[:, i] = quant\n",
    "        else:\n",
    "            quantized_tensor[i, :] = quant\n",
    "            \n",
    "    if (dim == 0):\n",
    "        scales = scales.view(scales.shape[dim], -1)\n",
    "        zero_pts = zero_pts.view(zero_pts.shape[dim], -1)\n",
    "    elif dim == 1:\n",
    "        \n",
    "        scales = scales.view(-1, scales.shape[0])\n",
    "        zero_pts = zero_pts.view(-1, zero_pts.shape[0])\n",
    "        \n",
    "    # quantized_tensor = torch.clamp_(torch.round(tensor / scales + zero_pts), \n",
    "    #                                   min=torch.iinfo(dtype).min, \n",
    "    #                                   max=torch.iinfo(dtype).max).to(torch.int)\n",
    "    return scales, zero_pts, quantized_tensor"
   ]
  },
  {
   "cell_type": "code",
   "execution_count": 3,
   "id": "6bb5e697",
   "metadata": {},
   "outputs": [
    {
     "data": {
      "text/plain": [
       "tensor([[ 0.4481],\n",
       "        [-0.3558],\n",
       "        [-0.4173]])"
      ]
     },
     "execution_count": 3,
     "metadata": {},
     "output_type": "execute_result"
    }
   ],
   "source": [
    "torch.randn(3,1)"
   ]
  },
  {
   "cell_type": "code",
   "execution_count": 4,
   "id": "bc0b9731",
   "metadata": {},
   "outputs": [],
   "source": [
    "\n",
    "class W8A16LinearLayer(nn.Module):\n",
    "    def __init__(self, in_features=4, out_features=4, dtype=torch.float32, bias=False):\n",
    "        super(W8A16LinearLayer, self).__init__()\n",
    "        self.register_buffer('int8_weights', torch.randint(torch.iinfo(torch.int8).min, torch.iinfo(torch.int8).max, (in_features, out_features), dtype=torch.int8))\n",
    "        self.register_buffer('scales', torch.randn(out_features, 1, dtype=torch.float32))\n",
    "        self.register_buffer('zero_point', torch.randint(torch.iinfo(torch.int8).min, torch.iinfo(torch.int8).max, (out_features, 1), dtype=torch.int8))\n",
    "        self.dtype = dtype\n",
    "        if bias:\n",
    "            self.register_buffer('bias', torch.empty(out_features, dtype=dtype))\n",
    "        else:\n",
    "            self.bias = None\n",
    "\n",
    "\n",
    "    def quantize(self, x):\n",
    "        x = x.to(torch.float32)\n",
    "        scales, zero_pts, quant_weights = channel_linear_quantize(x, dim=0)\n",
    "        #    Use .copy_() for an in-place update.\n",
    "        # print(scales.shape)\n",
    "        # print(zero_pts.shape)\n",
    "        # print(self.scales.shape)\n",
    "        # print(self.zero_point.shape)\n",
    "        self.int8_weights.copy_(quant_weights)\n",
    "        self.scales.copy_(scales) \n",
    "        self.zero_point.copy_(zero_pts)\n",
    "        return scales, zero_pts, quant_weights\n",
    "    \n",
    "    def linear_dequantize(self, scales, zero_pts, quant):\n",
    "        return scales * (quant.float() - zero_pts)\n",
    "    \n",
    "    def forward(self, x, scales, zero_point, dtype=torch.bfloat16):\n",
    "        dequant = self.linear_dequantize(scales, zero_point, self.int8_weights)\n",
    "        out = torch.matmul(x.to(dtype), dequant.to(self.dtype)) + (self.bias if self.bias is not None else 0.0)\n",
    "        return out"
   ]
  },
  {
   "cell_type": "code",
   "execution_count": 5,
   "id": "34a5d825",
   "metadata": {},
   "outputs": [],
   "source": [
    "def linear_dequantize(scale, zero_point, quantized_tensor):\n",
    "    return scale * (quantized_tensor.float() - zero_point)\n"
   ]
  },
  {
   "cell_type": "code",
   "execution_count": 6,
   "id": "23b8ce3e",
   "metadata": {},
   "outputs": [
    {
     "name": "stdout",
     "output_type": "stream",
     "text": [
      "torch.int8\n",
      "Weight reconstruction MSE: 0.025876469910144806\n"
     ]
    }
   ],
   "source": [
    "# Corrected test code\n",
    "quantized_ly = W8A16LinearLayer()\n",
    "\n",
    "# Store original weights before quantization\n",
    "original_weights = quantized_ly.int8_weights.clone()\n",
    "print(original_weights.dtype)\n",
    "\n",
    "# Quantize the weights\n",
    "scales, zero_pts, quant = quantized_ly.quantize(original_weights)\n",
    "\n",
    "# Dequantize to check reconstruction quality\n",
    "dequantized_weights = quantized_ly.linear_dequantize(scales, zero_pts, quant)\n",
    "\n",
    "# Calculate MSE between original and reconstructed weights\n",
    "weight_mse = (dequantized_weights - original_weights).pow(2).mean()\n",
    "print(f\"Weight reconstruction MSE: {weight_mse}\")\n",
    "\n",
    "# For forward pass comparison\n",
    "test_input = torch.randn(1, 16, dtype=torch.bfloat16)  # Batch size 1\n"
   ]
  },
  {
   "cell_type": "code",
   "execution_count": 12,
   "id": "008bb068",
   "metadata": {},
   "outputs": [
    {
     "data": {
      "text/plain": [
       "tensor([[-0.4041,  0.1341,  1.0847,  0.8148],\n",
       "        [ 2.0757, -1.3028,  0.8009, -0.6891],\n",
       "        [ 1.1807, -0.4752,  0.8403,  0.4074],\n",
       "        [ 0.2268,  0.4341, -1.1102, -0.0937]])"
      ]
     },
     "execution_count": 12,
     "metadata": {},
     "output_type": "execute_result"
    }
   ],
   "source": [
    "original_weights"
   ]
  },
  {
   "cell_type": "code",
   "execution_count": 7,
   "id": "92e1d15c",
   "metadata": {},
   "outputs": [
    {
     "data": {
      "image/png": "[encoded data removed]",
      "text/plain": [
       "<Figure size 1500x400 with 4 Axes>"
      ]
     },
     "metadata": {},
     "output_type": "display_data"
    }
   ],
   "source": [
    "from helper import plot_quantization_errors\n",
    "\n",
    "plot_quantization_errors(original_weights, quant, dequantized_weights)"
   ]
  },
  {
   "cell_type": "code",
   "execution_count": 95,
   "id": "d8cd321e",
   "metadata": {},
   "outputs": [
    {
     "name": "stdout",
     "output_type": "stream",
     "text": [
      "Original Tensor:\n",
      " tensor([[ 4.1602e-01, -4.3555e-01, -1.0625e+00,  6.9141e-01, -7.9688e-01,\n",
      "          1.3594e+00, -9.6875e-01, -3.3203e-01,  4.8242e-01, -7.5391e-01,\n",
      "         -7.3828e-01,  1.1562e+00, -1.6309e-01,  7.2266e-01, -1.2061e-01,\n",
      "         -1.3281e+00],\n",
      "        [ 1.8516e+00,  2.4121e-01,  2.0508e-01,  1.1875e+00, -1.1172e+00,\n",
      "         -3.4375e-01, -9.1016e-01, -5.1562e-01, -6.1523e-02,  1.2188e+00,\n",
      "         -8.9453e-01,  9.7266e-01,  1.0781e+00,  7.2266e-01, -7.0312e-02,\n",
      "          2.7148e-01],\n",
      "        [ 3.5352e-01, -9.7656e-01,  2.8320e-01, -2.5977e-01,  1.8359e-01,\n",
      "         -5.4297e-01,  2.0020e-01,  1.8125e+00, -8.8281e-01,  2.9531e+00,\n",
      "          2.5586e-01,  1.5000e+00, -5.0000e-01,  9.4727e-02,  1.5859e+00,\n",
      "         -8.5156e-01],\n",
      "        [-5.5469e-01,  1.7266e+00, -9.7266e-01,  1.2031e+00,  8.3594e-01,\n",
      "          1.4453e+00,  2.3730e-01,  1.5234e+00,  9.6094e-01, -5.7373e-02,\n",
      "         -1.0547e+00,  1.3281e+00,  1.6406e+00, -9.3750e-02,  4.1797e-01,\n",
      "         -3.4180e-01],\n",
      "        [ 1.5156e+00,  1.8672e+00,  3.4180e-01, -1.4219e+00, -2.2188e+00,\n",
      "          1.0254e-01, -8.1641e-01, -3.5352e-01, -1.1016e+00, -8.7891e-01,\n",
      "          1.3750e+00,  2.4805e-01, -1.1641e+00, -1.0156e+00, -1.0078e+00,\n",
      "         -3.3984e-01],\n",
      "        [ 2.4219e-01, -2.2070e-01, -9.4531e-01, -1.8203e+00,  8.0566e-02,\n",
      "         -1.1484e+00,  1.5625e+00, -2.1875e-01,  4.2773e-01, -7.8125e-01,\n",
      "         -1.2422e+00,  2.6172e-01,  6.4062e-01, -8.5547e-01, -2.4805e-01,\n",
      "          8.9062e-01],\n",
      "        [-4.5117e-01,  8.3984e-01,  1.3203e+00,  1.0107e-01,  4.4727e-01,\n",
      "         -9.7266e-01,  1.7090e-01,  2.1680e-01, -2.3633e-01, -1.1484e+00,\n",
      "          4.0234e-01, -2.1191e-01,  5.4297e-01, -2.9492e-01, -1.2969e+00,\n",
      "          3.4180e-01],\n",
      "        [-1.3516e+00,  1.6875e+00,  8.0078e-01,  1.1719e+00,  8.0469e-01,\n",
      "         -2.9297e-01,  6.7578e-01,  2.1387e-01, -2.7734e-01,  1.1875e+00,\n",
      "          2.6094e+00, -7.6172e-02,  9.3359e-01,  3.2031e-01, -1.1328e+00,\n",
      "         -5.3516e-01],\n",
      "        [ 3.6133e-01,  8.3203e-01, -6.2500e-01,  1.3203e+00, -1.2305e-01,\n",
      "         -2.3828e-01, -1.9922e+00,  2.2812e+00,  1.4609e+00,  4.0771e-02,\n",
      "         -5.6250e-01, -1.2695e-01,  1.5723e-01,  1.2109e+00,  2.3906e+00,\n",
      "          1.0156e+00],\n",
      "        [-3.5156e-01, -5.8203e-01,  1.1719e+00,  2.0898e-01, -1.1172e+00,\n",
      "          2.1875e-01, -1.0391e+00, -5.2734e-01, -9.1016e-01,  1.3203e+00,\n",
      "         -1.4941e-01,  8.4375e-01,  8.3594e-01, -1.3359e+00, -2.6367e-01,\n",
      "         -3.5547e-01],\n",
      "        [-1.2500e+00,  1.0781e+00, -7.6953e-01, -7.8125e-01, -7.8516e-01,\n",
      "         -3.5352e-01, -1.5527e-01,  6.1328e-01, -9.3359e-01,  3.2812e-01,\n",
      "          1.7500e+00,  8.5547e-01, -1.0312e+00, -3.3984e-01, -3.1055e-01,\n",
      "          1.3125e+00],\n",
      "        [ 1.5078e+00,  1.4062e-01, -1.1406e+00,  8.0469e-01,  1.7969e+00,\n",
      "          2.0703e-01, -7.7637e-02,  1.4297e+00,  1.2344e+00,  2.6172e-01,\n",
      "          1.4531e+00,  7.3047e-01, -5.9570e-02,  1.6895e-01,  4.4531e-01,\n",
      "         -5.6641e-01],\n",
      "        [ 4.0234e-01, -1.8652e-01,  1.0156e+00, -4.6875e-01, -2.9102e-01,\n",
      "         -1.1328e+00,  8.2812e-01, -3.0884e-02, -3.7695e-01, -7.5000e-01,\n",
      "         -1.0156e+00, -1.0352e-01, -1.1641e+00,  9.0332e-02,  7.9297e-01,\n",
      "         -5.5078e-01],\n",
      "        [ 2.1406e+00,  8.8867e-02,  7.4219e-01, -3.8867e-01,  9.1309e-02,\n",
      "          3.2715e-02, -7.5391e-01, -2.5000e+00, -1.5469e+00,  5.8984e-01,\n",
      "          1.8555e-01,  1.1719e+00, -3.4766e-01, -8.7109e-01,  1.5156e+00,\n",
      "          2.4261e-03],\n",
      "        [ 2.5195e-01, -7.8125e-01, -1.8066e-01,  6.5002e-03,  1.4141e+00,\n",
      "          4.5508e-01,  1.2969e+00,  8.7109e-01, -4.9023e-01,  9.0625e-01,\n",
      "         -8.3984e-02, -1.0234e+00,  9.9609e-01,  3.2031e-01, -8.3984e-02,\n",
      "          1.6250e+00],\n",
      "        [-4.9414e-01, -2.4536e-02,  5.7812e-01, -2.8711e-01,  8.9453e-01,\n",
      "         -5.4688e-01, -3.7695e-01,  4.3750e-01, -8.5547e-01,  1.0703e+00,\n",
      "          2.2363e-01, -1.7480e-01,  1.6719e+00, -5.7422e-01,  1.9141e+00,\n",
      "          1.2188e+00]], dtype=torch.bfloat16)\n",
      "Scales:\n",
      " torch.Size([16, 1])\n",
      "Zero Points:\n",
      " torch.Size([16, 1])\n",
      "Quantized Tensor:\n",
      " tensor([[ -98,  -66,   95,  -99,  -79,  -11,    7,  121,   16, -128,   57,  -15,\n",
      "          127,  112,   47,   75],\n",
      "        [  86,   24,  -82,   -7, -128, -107,  -26,   31, -121,  115,   62,   16,\n",
      "          -54, -120,  127, -123],\n",
      "        [  48, -128,    8,   58,    5,   -5,   79,   25,    9,  127, -100,   68,\n",
      "         -111,   58,  -78,   13],\n",
      "        [ -26, -117,   37,  126,  -98,  -20, -128,    7,  -11,  -40,  117,  127,\n",
      "          -90,  -98,  101,  -90],\n",
      "        [-102,   93,   71, -101,  112, -118,   96, -103,  -46,   70, -128,   98,\n",
      "          -88,  120,  127,   87],\n",
      "        [ -50, -128, -123,    9,  -58, -106,  -10, -104,   23,  127,  122,  127,\n",
      "           23,   82,   51,  -69],\n",
      "        [ 127,   33,  -73,   96,  -31, -111,  119,  -47,   43,  -92,  -68,  -40,\n",
      "            1, -110, -128,   68],\n",
      "        [   2,   16,  127,    0,   53,  115,  -66,   62,   48,   81,   34,   62,\n",
      "         -128,  -79, -116, -108],\n",
      "        [-106,   40,    1,  -37,   82,  127,  -86,   81,   -4,  -25, -128,   79,\n",
      "          108,  -92,   64,  -12],\n",
      "        [  60,   58,  -47,   33,  -10, -111, -117,  -96,  -22, -128,   23,  127,\n",
      "          -22,  -98,  -70, -125],\n",
      "        [ -42,   79,   47,  106, -116,  -58,  -91,  127,   43, -128,   36, -117,\n",
      "           -8,   86,  -16,  102],\n",
      "        [  36,  -17,    3,  -52,   97,  101,  127,   98,  101,   85,   57,   -2,\n",
      "         -102,  123, -128,  105],\n",
      "        [ 124,  102, -117,  -64, -127,   81,  119,  -49,  118,  127, -117, -128,\n",
      "          -57,  -29, -111,  -34],\n",
      "        [  -3, -114, -128,  -68,  -89,   20,  -51,  122,   -3,   24,  127,  -23,\n",
      "          -30,   21,  103,  -89],\n",
      "        [ -83, -128,   53,  127,  -72,  -84,   12,   -2,  -32,  -38,  -34,   46,\n",
      "           30,   -5,  -69,  -83],\n",
      "        [  11,   28,   46,  124, -128,    2,  127, -126,   96,  -35,  -59,   -8,\n",
      "           77,   70,   63,  104]], dtype=torch.int8)\n",
      "dequantized_tensor:\n",
      " tensor([[ -78.7059,  -50.7216,   90.0745,  -79.5804,  -62.0902,   -2.6235,\n",
      "           13.1176, -111.0627,   20.9882, -104.9412,   56.8431,   -6.1216,\n",
      "         -105.8157,  104.9412,   48.0980,   72.5843],\n",
      "        [  70.3373,   12.9569,  -85.1451,  -15.7333,  109.2078, -108.2824,\n",
      "          -33.3176,   19.4353,  115.6863,   97.1765,   48.1255,    5.5529,\n",
      "          -59.2314,  116.6118,  108.2824,  113.8353],\n",
      "        [  39.0902,  -83.7647,   11.1686,   46.0706,    9.0745,    2.0941,\n",
      "           60.7294,   23.0353,   11.8667,  -84.4627,  -64.2196,   53.0510,\n",
      "          -71.8980,   46.0706,  -48.8627,   14.6588],\n",
      "        [ -11.4196,  -91.3569,   43.9216, -102.7765,  -74.6667,   -6.1490,\n",
      "         -101.0196,   17.5686,    1.7569,  -23.7176, -110.6824, -101.8980,\n",
      "          -67.6392,  -74.6667,  100.1412,  -67.6392],\n",
      "        [-100.8824,   86.4706,   65.3333,  -99.9216,  104.7255, -116.2549,\n",
      "           89.3529, -101.8431,  -47.0784,   64.3726,  120.0980,   91.2745,\n",
      "          -87.4314,  112.4118,  119.1373,   80.7059],\n",
      "        [ -43.6706, -114.6353, -110.0863,   10.0078,  -50.9490,  -94.6196,\n",
      "           -7.2784,  -92.8000,   22.7451, -115.5451,  112.8157, -115.5451,\n",
      "           22.7451,   76.4235,   48.2196,  -60.9569],\n",
      "        [  88.9569,   10.8078,  -77.3176,   63.1843,  -42.4000,  103.9216,\n",
      "           82.3059,  -55.7020,   19.1216,  -93.1137,  -73.1608,  -49.8824,\n",
      "          -15.7961,  104.7529,   89.7882,   39.9059],\n",
      "        [  -3.8275,    9.5686,  115.7804,   -5.7412,   44.9725,  104.2980,\n",
      "          -68.8941,   53.5843,   40.1882,   71.7647,   26.7922,   53.5843,\n",
      "          116.7373,  -81.3333, -116.7373, -109.0824],\n",
      "        [ -68.3333,   49.0392,   17.6863,  -12.8627,   82.8039,  -86.8235,\n",
      "          -52.2549,   82.0000,   13.6667,   -3.2157,  -86.0196,   80.3922,\n",
      "         -102.0980,  -57.0784,   68.3333,    7.2353],\n",
      "        [  55.8353,   54.0627,  -38.9961,   31.9059,   -6.2039,  -95.7177,\n",
      "         -101.0353,  -82.4235,  -16.8392, -110.7843,   23.0431, -111.6706,\n",
      "          -16.8392,  -84.1961,  -59.3804, -108.1255],\n",
      "        [ -50.0392,   60.0471,   30.9333,   84.6118,  115.5451,  -64.5961,\n",
      "          -94.6196,  103.7177,   27.2941,  104.6274,   20.9255,  114.6353,\n",
      "          -19.1059,   66.4157,  -26.3843,   80.9725],\n",
      "        [  16.7843,  -27.6941,  -10.9098,  -57.0667,   67.9765,   71.3333,\n",
      "           93.1529,   68.8157,   71.3333,   57.9059,   34.4078,  -15.1059,\n",
      "          -99.0275,   89.7961,   93.9922,   74.6902],\n",
      "        [ 100.1176,   80.2745,  113.6471,  -69.4510,  104.6274,   61.3333,\n",
      "           95.6078,  -55.9216,   94.7059,  102.8235,  113.6471,  103.7255,\n",
      "          -63.1373,  -37.8824, -111.8431,  -42.3922],\n",
      "        [   4.3333,  -91.8667, -104.0000,  -52.0000,  -70.2000,   24.2667,\n",
      "          -37.2667, -109.2000,    4.3333,   27.7333, -104.8667,  -13.0000,\n",
      "          -19.0667,   25.1333,   96.2000,  -70.2000],\n",
      "        [ -52.9412,  -84.7059,   43.0588,  -85.4118,  -45.1765,  -53.6471,\n",
      "           14.1176,    4.2353,  -16.9412,  -21.1765,  -18.3529,   38.1176,\n",
      "           26.8235,    2.1176,  -43.0588,  -52.9412],\n",
      "        [   6.8078,   23.3412,   40.8471,  116.7059,  120.5961,   -1.9451,\n",
      "          119.6235,  122.5412,   89.4745,  -37.9294,  -61.2706,  -11.6706,\n",
      "           70.9961,   64.1882,   57.3804,   97.2549]])\n"
     ]
    }
   ],
   "source": [
    "print(\"Original Tensor:\\n\", test_tensor)\n",
    "print(\"Scales:\\n\", scales.shape)\n",
    "print(\"Zero Points:\\n\", zero_pts.shape)\n",
    "print(\"Quantized Tensor:\\n\", quant)\n",
    "print(\"dequantized_tensor:\\n\", dequantized_weights)\n",
    "    "
   ]
  },
  {
   "cell_type": "code",
   "execution_count": 96,
   "id": "7870b22d",
   "metadata": {},
   "outputs": [
    {
     "data": {
      "text/plain": [
       "tensor(11753.8945)"
      ]
     },
     "execution_count": 96,
     "metadata": {},
     "output_type": "execute_result"
    }
   ],
   "source": [
    "(dequantized_weights - initial_weights).square().mean()  # should be small, e.g., < 1e-2"
   ]
  }
 ],
 "metadata": {
  "kernelspec": {
   "display_name": "trainLLM",
   "language": "python",
   "name": "python3"
  },
  "language_info": {
   "codemirror_mode": {
    "name": "ipython",
    "version": 3
   },
   "file_extension": ".py",
   "mimetype": "text/x-python",
   "name": "python",
   "nbconvert_exporter": "python",
   "pygments_lexer": "ipython3",
   "version": "3.10.11"
  }
 },
 "nbformat": 4,
 "nbformat_minor": 5
}
